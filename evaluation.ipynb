{
 "cells": [
  {
   "cell_type": "code",
   "execution_count": 1,
   "id": "35505a09-b241-4fe3-8970-65fc154d750e",
   "metadata": {
    "execution": {
     "iopub.execute_input": "2024-09-05T07:56:27.820956Z",
     "iopub.status.busy": "2024-09-05T07:56:27.820510Z",
     "iopub.status.idle": "2024-09-05T07:56:30.255298Z",
     "shell.execute_reply": "2024-09-05T07:56:30.253538Z",
     "shell.execute_reply.started": "2024-09-05T07:56:27.820924Z"
    }
   },
   "outputs": [],
   "source": [
    "import pandas as pd"
   ]
  },
  {
   "cell_type": "code",
   "execution_count": 11,
   "id": "d3e3891b-b154-4273-b751-c8a293a4dd94",
   "metadata": {
    "execution": {
     "iopub.execute_input": "2024-09-05T08:03:18.397649Z",
     "iopub.status.busy": "2024-09-05T08:03:18.397025Z",
     "iopub.status.idle": "2024-09-05T08:03:18.416968Z",
     "shell.execute_reply": "2024-09-05T08:03:18.415757Z",
     "shell.execute_reply.started": "2024-09-05T08:03:18.397599Z"
    }
   },
   "outputs": [],
   "source": [
    "df = pd.read_csv('./datasets/testing/cm_test.csv')"
   ]
  },
  {
   "cell_type": "code",
   "execution_count": 12,
   "id": "f603cb89-329e-40f9-bf7b-d88ff36ef3d5",
   "metadata": {
    "execution": {
     "iopub.execute_input": "2024-09-05T08:03:19.701935Z",
     "iopub.status.busy": "2024-09-05T08:03:19.701365Z",
     "iopub.status.idle": "2024-09-05T08:03:19.717450Z",
     "shell.execute_reply": "2024-09-05T08:03:19.716397Z",
     "shell.execute_reply.started": "2024-09-05T08:03:19.701890Z"
    }
   },
   "outputs": [
    {
     "data": {
      "text/html": [
       "<div>\n",
       "<style scoped>\n",
       "    .dataframe tbody tr th:only-of-type {\n",
       "        vertical-align: middle;\n",
       "    }\n",
       "\n",
       "    .dataframe tbody tr th {\n",
       "        vertical-align: top;\n",
       "    }\n",
       "\n",
       "    .dataframe thead th {\n",
       "        text-align: right;\n",
       "    }\n",
       "</style>\n",
       "<table border=\"1\" class=\"dataframe\">\n",
       "  <thead>\n",
       "    <tr style=\"text-align: right;\">\n",
       "      <th></th>\n",
       "      <th>path</th>\n",
       "      <th>text</th>\n",
       "    </tr>\n",
       "  </thead>\n",
       "  <tbody>\n",
       "    <tr>\n",
       "      <th>0</th>\n",
       "      <td>/home/trind/data/datasets/data/cv-corpus-8.0-2...</td>\n",
       "      <td>ngày em đi cất nhẹ gót quay về</td>\n",
       "    </tr>\n",
       "    <tr>\n",
       "      <th>1</th>\n",
       "      <td>/home/trind/data/datasets/data/cv-corpus-8.0-2...</td>\n",
       "      <td>anh đã biết tình kia là không thể</td>\n",
       "    </tr>\n",
       "    <tr>\n",
       "      <th>2</th>\n",
       "      <td>/home/trind/data/datasets/data/cv-corpus-8.0-2...</td>\n",
       "      <td>cây cỏ tỉnh táo</td>\n",
       "    </tr>\n",
       "    <tr>\n",
       "      <th>3</th>\n",
       "      <td>/home/trind/data/datasets/data/cv-corpus-8.0-2...</td>\n",
       "      <td>vợ tôi cũng bị một chiếc xe như vậy</td>\n",
       "    </tr>\n",
       "    <tr>\n",
       "      <th>4</th>\n",
       "      <td>/home/trind/data/datasets/data/cv-corpus-8.0-2...</td>\n",
       "      <td>nồng nàn hoa sữa giữa bầu trời đêm</td>\n",
       "    </tr>\n",
       "    <tr>\n",
       "      <th>...</th>\n",
       "      <td>...</td>\n",
       "      <td>...</td>\n",
       "    </tr>\n",
       "    <tr>\n",
       "      <th>1113</th>\n",
       "      <td>/home/trind/data/datasets/data/cv-corpus-8.0-2...</td>\n",
       "      <td>em nói bác cứ không tin chứ con vợ em kìa</td>\n",
       "    </tr>\n",
       "    <tr>\n",
       "      <th>1114</th>\n",
       "      <td>/home/trind/data/datasets/data/cv-corpus-8.0-2...</td>\n",
       "      <td>với cầu việc thi cử của em cho thuận lợi</td>\n",
       "    </tr>\n",
       "    <tr>\n",
       "      <th>1115</th>\n",
       "      <td>/home/trind/data/datasets/data/cv-corpus-8.0-2...</td>\n",
       "      <td>thích ơi là thích</td>\n",
       "    </tr>\n",
       "    <tr>\n",
       "      <th>1116</th>\n",
       "      <td>/home/trind/data/datasets/data/cv-corpus-8.0-2...</td>\n",
       "      <td>tuy nhiên chinh lại tận tình chu đáo cho mọi v...</td>\n",
       "    </tr>\n",
       "    <tr>\n",
       "      <th>1117</th>\n",
       "      <td>/home/trind/data/datasets/data/cv-corpus-8.0-2...</td>\n",
       "      <td>ở một mình có nhà thế này thì sướng quá rồi cò...</td>\n",
       "    </tr>\n",
       "  </tbody>\n",
       "</table>\n",
       "<p>1118 rows × 2 columns</p>\n",
       "</div>"
      ],
      "text/plain": [
       "                                                   path  \\\n",
       "0     /home/trind/data/datasets/data/cv-corpus-8.0-2...   \n",
       "1     /home/trind/data/datasets/data/cv-corpus-8.0-2...   \n",
       "2     /home/trind/data/datasets/data/cv-corpus-8.0-2...   \n",
       "3     /home/trind/data/datasets/data/cv-corpus-8.0-2...   \n",
       "4     /home/trind/data/datasets/data/cv-corpus-8.0-2...   \n",
       "...                                                 ...   \n",
       "1113  /home/trind/data/datasets/data/cv-corpus-8.0-2...   \n",
       "1114  /home/trind/data/datasets/data/cv-corpus-8.0-2...   \n",
       "1115  /home/trind/data/datasets/data/cv-corpus-8.0-2...   \n",
       "1116  /home/trind/data/datasets/data/cv-corpus-8.0-2...   \n",
       "1117  /home/trind/data/datasets/data/cv-corpus-8.0-2...   \n",
       "\n",
       "                                                   text  \n",
       "0                        ngày em đi cất nhẹ gót quay về  \n",
       "1                     anh đã biết tình kia là không thể  \n",
       "2                                       cây cỏ tỉnh táo  \n",
       "3                   vợ tôi cũng bị một chiếc xe như vậy  \n",
       "4                    nồng nàn hoa sữa giữa bầu trời đêm  \n",
       "...                                                 ...  \n",
       "1113          em nói bác cứ không tin chứ con vợ em kìa  \n",
       "1114           với cầu việc thi cử của em cho thuận lợi  \n",
       "1115                                  thích ơi là thích  \n",
       "1116  tuy nhiên chinh lại tận tình chu đáo cho mọi v...  \n",
       "1117  ở một mình có nhà thế này thì sướng quá rồi cò...  \n",
       "\n",
       "[1118 rows x 2 columns]"
      ]
     },
     "execution_count": 12,
     "metadata": {},
     "output_type": "execute_result"
    }
   ],
   "source": [
    "df"
   ]
  },
  {
   "cell_type": "code",
   "execution_count": 4,
   "id": "7ffebc1d-fbc5-4bf8-ac9f-7e3459e3c0a0",
   "metadata": {
    "execution": {
     "iopub.execute_input": "2024-09-05T07:57:39.462433Z",
     "iopub.status.busy": "2024-09-05T07:57:39.461850Z",
     "iopub.status.idle": "2024-09-05T07:57:39.471285Z",
     "shell.execute_reply": "2024-09-05T07:57:39.470068Z",
     "shell.execute_reply.started": "2024-09-05T07:57:39.462378Z"
    }
   },
   "outputs": [],
   "source": [
    "df['path'] = df['path'].apply(lambda x: x.replace(\"/home/trind/data/datasets/data/\", \"/bigdata/voice_recognition/keyword_detection/data_public_s2t_new/\"))"
   ]
  },
  {
   "cell_type": "code",
   "execution_count": 5,
   "id": "7b1ff40f-6df8-4ad5-ade1-46c2d8174bbe",
   "metadata": {
    "execution": {
     "iopub.execute_input": "2024-09-05T07:57:45.060437Z",
     "iopub.status.busy": "2024-09-05T07:57:45.059852Z",
     "iopub.status.idle": "2024-09-05T07:57:45.066920Z",
     "shell.execute_reply": "2024-09-05T07:57:45.065684Z",
     "shell.execute_reply.started": "2024-09-05T07:57:45.060390Z"
    }
   },
   "outputs": [],
   "source": [
    "paths = df['path'].to_list()"
   ]
  },
  {
   "cell_type": "code",
   "execution_count": 6,
   "id": "2ee66cd7-3405-4205-abbb-8a4ab48369fa",
   "metadata": {
    "execution": {
     "iopub.execute_input": "2024-09-05T07:57:47.547879Z",
     "iopub.status.busy": "2024-09-05T07:57:47.547284Z",
     "iopub.status.idle": "2024-09-05T07:57:47.554276Z",
     "shell.execute_reply": "2024-09-05T07:57:47.552535Z",
     "shell.execute_reply.started": "2024-09-05T07:57:47.547831Z"
    }
   },
   "outputs": [],
   "source": [
    "import os"
   ]
  },
  {
   "cell_type": "code",
   "execution_count": 7,
   "id": "72dd04eb-d64d-45c2-b26c-8b6ecc26127f",
   "metadata": {
    "execution": {
     "iopub.execute_input": "2024-09-05T07:57:50.644328Z",
     "iopub.status.busy": "2024-09-05T07:57:50.643749Z",
     "iopub.status.idle": "2024-09-05T07:57:50.656866Z",
     "shell.execute_reply": "2024-09-05T07:57:50.655709Z",
     "shell.execute_reply.started": "2024-09-05T07:57:50.644279Z"
    }
   },
   "outputs": [
    {
     "data": {
      "text/plain": [
       "True"
      ]
     },
     "execution_count": 7,
     "metadata": {},
     "output_type": "execute_result"
    }
   ],
   "source": [
    "os.path.exists(paths[0])"
   ]
  },
  {
   "cell_type": "code",
   "execution_count": 8,
   "id": "0905eee3-f836-4ed7-b482-e4cdfec96678",
   "metadata": {
    "execution": {
     "iopub.execute_input": "2024-09-05T07:58:29.748666Z",
     "iopub.status.busy": "2024-09-05T07:58:29.747488Z",
     "iopub.status.idle": "2024-09-05T07:58:29.816787Z",
     "shell.execute_reply": "2024-09-05T07:58:29.815820Z",
     "shell.execute_reply.started": "2024-09-05T07:58:29.748620Z"
    }
   },
   "outputs": [],
   "source": [
    "df.to_csv(\"./datasets/testing/vivos_test.csv\", index=False)"
   ]
  },
  {
   "cell_type": "code",
   "execution_count": null,
   "id": "a49be9e5-c1f5-4029-977c-a3fc16c89cf1",
   "metadata": {},
   "outputs": [],
   "source": []
  }
 ],
 "metadata": {
  "kernelspec": {
   "display_name": "stt",
   "language": "python",
   "name": "stt"
  },
  "language_info": {
   "codemirror_mode": {
    "name": "ipython",
    "version": 3
   },
   "file_extension": ".py",
   "mimetype": "text/x-python",
   "name": "python",
   "nbconvert_exporter": "python",
   "pygments_lexer": "ipython3",
   "version": "3.10.12"
  }
 },
 "nbformat": 4,
 "nbformat_minor": 5
}
